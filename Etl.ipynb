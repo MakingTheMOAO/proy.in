{
 "cells": [
  {
   "cell_type": "code",
   "execution_count": 2,
   "metadata": {},
   "outputs": [],
   "source": [
    "# Importar librerias necesarias.\n",
    "import pandas as pd \n",
    "import numpy as np"
   ]
  },
  {
   "cell_type": "code",
   "execution_count": 3,
   "metadata": {},
   "outputs": [],
   "source": [
    "# Cargar los Datasets\n",
    "# Ratins:\n",
    "df1 = pd.read_csv(r\"ratings\\1.csv\")\n",
    "df2 = pd.read_csv(r\"ratings\\2.csv\")\n",
    "df3 = pd.read_csv(r\"ratings\\3.csv\")\n",
    "df4 = pd.read_csv(r\"ratings\\4.csv\")\n",
    "df5 = pd.read_csv(r\"ratings\\5.csv\")\n",
    "df6 = pd.read_csv(r\"ratings\\6.csv\")\n",
    "df7 = pd.read_csv(r\"ratings\\7.csv\")\n",
    "df8 = pd.read_csv(r\"ratings\\8.csv\")\n",
    "\n",
    "\n"
   ]
  },
  {
   "cell_type": "code",
   "execution_count": 4,
   "metadata": {},
   "outputs": [],
   "source": [
    "# Csv de plataformas:\n",
    "amazon = pd.read_csv(r\"amazon_prime_titles.csv\")\n",
    "disney = pd.read_csv(r\"disney_plus_titles.csv\")\n",
    "hulu = pd.read_csv(r\"hulu_titles.csv\")\n",
    "netflix = pd.read_csv(r\"netflix_titles.csv\")"
   ]
  },
  {
   "attachments": {},
   "cell_type": "markdown",
   "metadata": {},
   "source": [
    "Proceso de ETL:"
   ]
  },
  {
   "cell_type": "code",
   "execution_count": 19,
   "metadata": {},
   "outputs": [
    {
     "data": {
      "text/html": [
       "<div>\n",
       "<style scoped>\n",
       "    .dataframe tbody tr th:only-of-type {\n",
       "        vertical-align: middle;\n",
       "    }\n",
       "\n",
       "    .dataframe tbody tr th {\n",
       "        vertical-align: top;\n",
       "    }\n",
       "\n",
       "    .dataframe thead th {\n",
       "        text-align: right;\n",
       "    }\n",
       "</style>\n",
       "<table border=\"1\" class=\"dataframe\">\n",
       "  <thead>\n",
       "    <tr style=\"text-align: right;\">\n",
       "      <th></th>\n",
       "      <th>show_id</th>\n",
       "      <th>type</th>\n",
       "      <th>title</th>\n",
       "      <th>director</th>\n",
       "      <th>cast</th>\n",
       "      <th>country</th>\n",
       "      <th>date_added</th>\n",
       "      <th>release_year</th>\n",
       "      <th>rating</th>\n",
       "      <th>listed_in</th>\n",
       "      <th>description</th>\n",
       "      <th>duration_int</th>\n",
       "      <th>duration_type</th>\n",
       "    </tr>\n",
       "  </thead>\n",
       "  <tbody>\n",
       "    <tr>\n",
       "      <th>0</th>\n",
       "      <td>as1</td>\n",
       "      <td>movie</td>\n",
       "      <td>the grand seduction</td>\n",
       "      <td>don mckellar</td>\n",
       "      <td>brendan gleeson, taylor kitsch, gordon pinsent</td>\n",
       "      <td>canada</td>\n",
       "      <td>2021-03-30</td>\n",
       "      <td>2014</td>\n",
       "      <td>g</td>\n",
       "      <td>comedy, drama</td>\n",
       "      <td>a small fishing village must procure a local d...</td>\n",
       "      <td>113</td>\n",
       "      <td>min</td>\n",
       "    </tr>\n",
       "    <tr>\n",
       "      <th>1</th>\n",
       "      <td>as2</td>\n",
       "      <td>movie</td>\n",
       "      <td>take care good night</td>\n",
       "      <td>girish joshi</td>\n",
       "      <td>mahesh manjrekar, abhay mahajan, sachin khedekar</td>\n",
       "      <td>india</td>\n",
       "      <td>2021-03-30</td>\n",
       "      <td>2018</td>\n",
       "      <td>13+</td>\n",
       "      <td>drama, international</td>\n",
       "      <td>a metro family decides to fight a cyber crimin...</td>\n",
       "      <td>110</td>\n",
       "      <td>min</td>\n",
       "    </tr>\n",
       "    <tr>\n",
       "      <th>2</th>\n",
       "      <td>as3</td>\n",
       "      <td>movie</td>\n",
       "      <td>secrets of deception</td>\n",
       "      <td>josh webber</td>\n",
       "      <td>tom sizemore, lorenzo lamas, robert lasardo, r...</td>\n",
       "      <td>united states</td>\n",
       "      <td>2021-03-30</td>\n",
       "      <td>2017</td>\n",
       "      <td>g</td>\n",
       "      <td>action, drama, suspense</td>\n",
       "      <td>after a man discovers his wife is cheating on ...</td>\n",
       "      <td>74</td>\n",
       "      <td>min</td>\n",
       "    </tr>\n",
       "    <tr>\n",
       "      <th>3</th>\n",
       "      <td>as4</td>\n",
       "      <td>movie</td>\n",
       "      <td>pink: staying true</td>\n",
       "      <td>sonia anderson</td>\n",
       "      <td>interviews with: pink, adele, beyoncé, britney...</td>\n",
       "      <td>united states</td>\n",
       "      <td>2021-03-30</td>\n",
       "      <td>2014</td>\n",
       "      <td>g</td>\n",
       "      <td>documentary</td>\n",
       "      <td>pink breaks the mold once again, bringing her ...</td>\n",
       "      <td>69</td>\n",
       "      <td>min</td>\n",
       "    </tr>\n",
       "    <tr>\n",
       "      <th>4</th>\n",
       "      <td>as5</td>\n",
       "      <td>movie</td>\n",
       "      <td>monster maker</td>\n",
       "      <td>giles foster</td>\n",
       "      <td>harry dean stanton, kieran o'brien, george cos...</td>\n",
       "      <td>united kingdom</td>\n",
       "      <td>2021-03-30</td>\n",
       "      <td>1989</td>\n",
       "      <td>g</td>\n",
       "      <td>drama, fantasy</td>\n",
       "      <td>teenage matt banting wants to work with a famo...</td>\n",
       "      <td>45</td>\n",
       "      <td>min</td>\n",
       "    </tr>\n",
       "  </tbody>\n",
       "</table>\n",
       "</div>"
      ],
      "text/plain": [
       "  show_id   type                 title        director  \\\n",
       "0     as1  movie   the grand seduction    don mckellar   \n",
       "1     as2  movie  take care good night    girish joshi   \n",
       "2     as3  movie  secrets of deception     josh webber   \n",
       "3     as4  movie    pink: staying true  sonia anderson   \n",
       "4     as5  movie         monster maker    giles foster   \n",
       "\n",
       "                                                cast         country  \\\n",
       "0     brendan gleeson, taylor kitsch, gordon pinsent          canada   \n",
       "1   mahesh manjrekar, abhay mahajan, sachin khedekar           india   \n",
       "2  tom sizemore, lorenzo lamas, robert lasardo, r...   united states   \n",
       "3  interviews with: pink, adele, beyoncé, britney...   united states   \n",
       "4  harry dean stanton, kieran o'brien, george cos...  united kingdom   \n",
       "\n",
       "  date_added  release_year rating                listed_in  \\\n",
       "0 2021-03-30          2014      g            comedy, drama   \n",
       "1 2021-03-30          2018    13+     drama, international   \n",
       "2 2021-03-30          2017      g  action, drama, suspense   \n",
       "3 2021-03-30          2014      g              documentary   \n",
       "4 2021-03-30          1989      g           drama, fantasy   \n",
       "\n",
       "                                         description duration_int  \\\n",
       "0  a small fishing village must procure a local d...          113   \n",
       "1  a metro family decides to fight a cyber crimin...          110   \n",
       "2  after a man discovers his wife is cheating on ...           74   \n",
       "3  pink breaks the mold once again, bringing her ...           69   \n",
       "4  teenage matt banting wants to work with a famo...           45   \n",
       "\n",
       "  duration_type  \n",
       "0           min  \n",
       "1           min  \n",
       "2           min  \n",
       "3           min  \n",
       "4           min  "
      ]
     },
     "execution_count": 19,
     "metadata": {},
     "output_type": "execute_result"
    }
   ],
   "source": [
    "amazon.head()"
   ]
  },
  {
   "cell_type": "code",
   "execution_count": 27,
   "metadata": {},
   "outputs": [
    {
     "data": {
      "text/plain": [
       "'across the line'"
      ]
     },
     "execution_count": 27,
     "metadata": {},
     "output_type": "execute_result"
    }
   ],
   "source": [
    "max_duration = amazon[\"duration_int\"].max()\n",
    "duration_type = \"min\"\n",
    "year = 2000\n",
    "amazon.query('release_year == @year and duration_type == @duration_type and duration_int == @amazon[\"duration_int\"].max()')[\"title\"].iloc[0]\n"
   ]
  },
  {
   "cell_type": "code",
   "execution_count": 6,
   "metadata": {},
   "outputs": [],
   "source": [
    "# ajustar los nombres de las id\n",
    "amazon.show_id = \"a\" + amazon.show_id\n",
    "disney.show_id = \"d\" + disney.show_id\n",
    "hulu.show_id = \"h\" + hulu.show_id\n",
    "netflix.show_id = \"n\" + netflix.show_id"
   ]
  },
  {
   "cell_type": "code",
   "execution_count": 16,
   "metadata": {},
   "outputs": [],
   "source": [
    "# definir celdas NaN\n",
    "amazon.rating.fillna(\"G\", inplace=True)\n",
    "disney.rating.fillna(\"G\", inplace=True)\n",
    "hulu.rating.fillna(\"G\", inplace=True)\n",
    "netflix.rating.fillna(\"G\", inplace=True)"
   ]
  },
  {
   "cell_type": "code",
   "execution_count": 8,
   "metadata": {},
   "outputs": [],
   "source": [
    "# reformatear a datetimes yyyy-mm-dd\n",
    "amazon[\"date_added\"] = pd.to_datetime(amazon[\"date_added\"])\n",
    "disney[\"date_added\"] = pd.to_datetime(disney[\"date_added\"])\n",
    "hulu[\"date_added\"] = pd.to_datetime(hulu[\"date_added\"])\n",
    "netflix[\"date_added\"] = pd.to_datetime(netflix[\"date_added\"])\n",
    "\n"
   ]
  },
  {
   "cell_type": "code",
   "execution_count": 18,
   "metadata": {},
   "outputs": [],
   "source": [
    "# aplicar lower case a todo lo que sea texto\n",
    "amazon = amazon.applymap(lambda s: s.lower() if type(s) == str else s)\n",
    "disney = disney.applymap(lambda s: s.lower() if type(s) == str else s)\n",
    "hulu = hulu.applymap(lambda s: s.lower() if type(s) == str else s)\n",
    "netflix = netflix.applymap(lambda s: s.lower() if type(s) == str else s)\n"
   ]
  },
  {
   "cell_type": "code",
   "execution_count": 10,
   "metadata": {},
   "outputs": [],
   "source": [
    "# convertir duration a dos columnas\n",
    "amazon[[\"duration_int\", \"duration_type\"]] = amazon['duration'].str.split(' ',expand=True)\n",
    "disney[[\"duration_int\", \"duration_type\"]] = disney['duration'].str.split(' ',expand=True)\n",
    "hulu[[\"duration_int\", \"duration_type\"]] = hulu['duration'].str.split(' ',expand=True)\n",
    "netflix[[\"duration_int\", \"duration_type\"]] = netflix['duration'].str.split(' ',expand=True)\n",
    "# borrar la columna duration\n",
    "amazon.drop('duration', axis=1, inplace=True)\n",
    "disney.drop('duration', axis=1, inplace=True)\n",
    "hulu.drop('duration', axis=1, inplace=True)\n",
    "netflix.drop('duration', axis=1, inplace=True)  "
   ]
  },
  {
   "cell_type": "code",
   "execution_count": null,
   "metadata": {},
   "outputs": [],
   "source": [
    "#Funciones API\n",
    "\n",
    "    "
   ]
  }
 ],
 "metadata": {
  "kernelspec": {
   "display_name": "Python 3",
   "language": "python",
   "name": "python3"
  },
  "language_info": {
   "codemirror_mode": {
    "name": "ipython",
    "version": 3
   },
   "file_extension": ".py",
   "mimetype": "text/x-python",
   "name": "python",
   "nbconvert_exporter": "python",
   "pygments_lexer": "ipython3",
   "version": "3.10.4"
  },
  "orig_nbformat": 4,
  "vscode": {
   "interpreter": {
    "hash": "c63d8c7d738c2960218a10995aedf0a7f67a49a231e71037adf0440953cdb45b"
   }
  }
 },
 "nbformat": 4,
 "nbformat_minor": 2
}
